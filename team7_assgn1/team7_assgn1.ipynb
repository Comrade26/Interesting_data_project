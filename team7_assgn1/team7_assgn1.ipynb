{
 "cells": [
  {
   "attachments": {},
   "cell_type": "markdown",
   "metadata": {},
   "source": [
    "<div style=\"text-align:center\">\n",
    "  <img src=\"https://raw.githubusercontent.com/Comrade26/Interesting_data_project/main/team7_assgn1/logo_laber.jpg\" alt=\"alt text\">\n",
    "  <h5>แหล่งข้อมูลที่มา : https://ldls.mol.go.th/main</h5>\n",
    "</div>\n",
    "\n",
    "<table align=\"center\">\n",
    "    <tr>\n",
    "      <th>Import module</th>\n",
    "      <th>Description</th>\n",
    "    </tr>\n",
    "    <tr>\n",
    "      <td>import sys</td>\n",
    "      <td>ใช้ในการบอก python version</td>\n",
    "    </tr>\n",
    "    <tr>\n",
    "      <td>import re</td>\n",
    "      <td>ใช้ในการ search หา str ใน text</td>\n",
    "    </tr>\n",
    "    <tr>\n",
    "      <td>import requests</td>\n",
    "      <td>ใช้ในการส่งคำขอเพื่อสามารถใช้ link URL ได้</td>\n",
    "    </tr>\n",
    "    <tr>\n",
    "      <td>import numpy</td>\n",
    "      <td>ใช้ในการจัดรูปแบบกราฟวิเคราะห์ข้อมูล</td>\n",
    "    </tr>\n",
    "    <tr>\n",
    "      <td>import pandas</td>\n",
    "      <td>ใช้ในการจัดการข้อมูลที่เป็น dataframe</td>\n",
    "    </tr>    \n",
    "    <tr>\n",
    "      <td>import seaborn</td>\n",
    "      <td>ใช้ในการทำรูปแบบกราฟต่าง ๆ ของข้อมูล</td>\n",
    "    </tr>\n",
    "    <tr>\n",
    "      <td>import datetime</td>\n",
    "      <td>ใช้ในการบอกเวลาครั้งสุดท้ายที่ run</td>\n",
    "    </tr>\n",
    "    <tr>\n",
    "      <td>import matplotlib</td>\n",
    "      <td>ใช้ในการคำนวณและ plot กราd</td>\n",
    "    </tr>\n",
    "    <tr>\n",
    "      <td>import ipywidgets</td>\n",
    "      <td>ใช้ในการสร้างกราฟแบบ interactive</td>\n",
    "    </tr>     \n",
    "</table>"
   ]
  },
  {
   "cell_type": "code",
   "execution_count": null,
   "metadata": {},
   "outputs": [],
   "source": [
    "import sys\n",
    "import re\n",
    "import requests\n",
    "import numpy as np\n",
    "import pandas as pd\n",
    "import seaborn as sns\n",
    "import matplotlib\n",
    "import datetime\n",
    "import ipywidgets"
   ]
  },
  {
   "attachments": {},
   "cell_type": "markdown",
   "metadata": {},
   "source": [
    "<table align=\"center\">\n",
    "    <tr>\n",
    "      <th>Import module</th>\n",
    "      <th>Version</th>\n",
    "    </tr>\n",
    "    <tr>\n",
    "      <td>import sys</td>\n",
    "      <td> 3.9.16</td>\n",
    "    </tr>\n",
    "    <tr>\n",
    "      <td>import re</td>\n",
    "      <td>2.2.1</td>\n",
    "    </tr>\n",
    "    <tr>\n",
    "      <td>import requests</td>\n",
    "      <td>2.28.1</td>\n",
    "    </tr>\n",
    "    <tr>\n",
    "      <td>import numpy</td>\n",
    "      <td>1.21.5</td>\n",
    "    </tr>\n",
    "    <tr>\n",
    "      <td>import pandas</td>\n",
    "      <td>1.5.2</td>\n",
    "    </tr>    \n",
    "    <tr>\n",
    "      <td>import seaborn</td>\n",
    "      <td>0.12.2</td>\n",
    "    </tr>\n",
    "    <tr>\n",
    "      <td>import datetime</td>\n",
    "      <td>3.6.2</td>\n",
    "    </tr>\n",
    "    <tr>\n",
    "      <td>import ipywidgets</td>\n",
    "      <td>7.6.5</td>\n",
    "    </tr>\n",
    "</table>"
   ]
  },
  {
   "cell_type": "code",
   "execution_count": null,
   "metadata": {},
   "outputs": [],
   "source": [
    "print(f'python version = {sys.version}')\n",
    "print(f're version = {re.__version__}')\n",
    "print(f'requests version = {requests.__version__}')\n",
    "print(f'numpy version = {np.__version__}')\n",
    "print(f'pandas version = {pd.__version__}')\n",
    "print(f'seaborn version = {sns.__version__}')\n",
    "print(f'matplotlib version = {matplotlib.__version__}')\n",
    "print(f'ipywidgets version = {ipywidgets.__version__}')\n",
    "print(f'last run = {datetime.date.today()}')"
   ]
  },
  {
   "attachments": {},
   "cell_type": "markdown",
   "metadata": {},
   "source": [
    "# Read CSV file\n",
    "อ่านไฟล์ CSV ที่ดึงมาจากเว็บ https://ldls.mol.go.th/main กระทรวงแรงงาน ในหัวข้อเรื่อง <mark style=\"background-color: darkgrey; color: black;\">ความต้องการ การจ้างงานในแรงงานไทยของแต่ละสาขาวิชา ของป.ตรี</mark> ทั้งหมด 3 ไฟล์ ประกอบด้วยข้อมูลสาขาวิชาของป.ตรี ตั้งแต่ปี 2563-2565"
   ]
  },
  {
   "cell_type": "code",
   "execution_count": null,
   "metadata": {},
   "outputs": [],
   "source": [
    "url = 'https://api.github.com/repos/Comrade26/Interesting_data_project/contents/team7_assgn1/data/'\n",
    "response = requests.get(url)\n",
    "list_data_name = []\n",
    "list_data = []\n",
    "\n",
    "if response.status_code == 200:\n",
    "    files = response.json()\n",
    "    for file in files:\n",
    "        list_data_name.append(file['name'][:-4])\n",
    "        list_data.append(pd.read_csv(file['download_url']))\n",
    "        # data ปี 2563 เป็น index ที่ 0 ใน list_data_name ซึ่งจะเท่ากับ list_data index ที่ 0 ซึ่งเป็น dataframe และจะสามารถรู้ข้อมูลที่อยู่ในปี 2563\n",
    "else:\n",
    "    print(response.json()['message'])"
   ]
  },
  {
   "attachments": {},
   "cell_type": "markdown",
   "metadata": {},
   "source": [
    "- การทดสอบข้อมูล Ex. ข้อมูลความต้องการ การจ้างงานในแรงงานไทยของแต่ละสาขาวิชา ของป.ตรี ของปี 2564"
   ]
  },
  {
   "cell_type": "code",
   "execution_count": null,
   "metadata": {},
   "outputs": [],
   "source": [
    "list_data[0].info()"
   ]
  },
  {
   "cell_type": "code",
   "execution_count": null,
   "metadata": {},
   "outputs": [],
   "source": [
    "list_data[0]"
   ]
  },
  {
   "attachments": {},
   "cell_type": "markdown",
   "metadata": {},
   "source": [
    "# List data importantly\n",
    "การ clean data ขั้นที่ 1\n",
    "- เปลี่ยนชื่อคอลัมน์จากภาษาไทยเป็นภาษาอังกฤษ ทำเพื่อให้เวลา plot กราฟ ไม่ต้องมีการกำหนด font\n",
    "- ลบตัวอักษรบางตัวที่อาจก่อให้เกิด Error code เช่น \" - \" "
   ]
  },
  {
   "cell_type": "code",
   "execution_count": null,
   "metadata": {},
   "outputs": [],
   "source": [
    "list_columns = [\"Major\", \"Male\", \"Female\", \"Unknow_Gender\", \"Thai\", \"Non_Thai\", \"Total_Work_Demand\"]\n",
    "letter_box = [\"-\", \"(\", \")\", \"[\", \"]\"]\n",
    "for c in list_data:\n",
    "    c.columns = list_columns\n",
    "    for i in range(len(c.Major)):\n",
    "        for letter in letter_box:\n",
    "            c.loc[i, \"Major\"] = c.loc[i, \"Major\"].replace(letter, \" \")\n"
   ]
  },
  {
   "cell_type": "code",
   "execution_count": null,
   "metadata": {},
   "outputs": [],
   "source": [
    "list_data[0]"
   ]
  },
  {
   "attachments": {},
   "cell_type": "markdown",
   "metadata": {},
   "source": [
    "# Clean Data\n",
    "การ clean data ขั้นที่ 2\n",
    "- การ clean data ขั้นนี้ทำเพื่อลบข้อมูลที่อาจจะผิดออกจาก data ของข้อมูลเดิม"
   ]
  },
  {
   "cell_type": "code",
   "execution_count": null,
   "metadata": {},
   "outputs": [],
   "source": [
    "not_want_word = [\"ปวส\", \"ปวช\", \"ป.โท\", \"ช่าง\", \"สำนักงานใหญ๋\", \"วิชาชีพ\", \"ผู้ควบคุม\", \"ทั่วไป\", \"อาชีว\", \"ก่อสร้าง\", \"เชื่อมโลหะ\", \"เทคนิค\", \"แม่พิมพ์โลหะ\", \"ที่เกี่ยวข้อง\", \"ฝ่ายผลิต\", \"การผลิต\", \"ความปลอดภัย\", \"ช่่างยนต์\", \"สำนักงานใหญ่\"]\n",
    "\n",
    "list_cleaned_data = []\n",
    "for c in list_data:\n",
    "    cleaned_data = c.copy()\n",
    "    for i in range(len(c)):\n",
    "        match_not_wanted = re.search(\"|\".join(not_want_word), c.Major[i])\n",
    "        if match_not_wanted is not None:\n",
    "            cleaned_data = cleaned_data.drop(i)\n",
    "    cleaned_data = cleaned_data.dropna().reset_index(drop = True)\n",
    "    list_cleaned_data.append(cleaned_data)"
   ]
  },
  {
   "cell_type": "code",
   "execution_count": null,
   "metadata": {},
   "outputs": [],
   "source": [
    "list_cleaned_data[0].head(10)"
   ]
  },
  {
   "attachments": {},
   "cell_type": "markdown",
   "metadata": {},
   "source": [
    "# Category of data\n",
    "- การแยกประเภท data เพื่อใช้ในการ clean data ในลำดับถัดไป"
   ]
  },
  {
   "cell_type": "code",
   "execution_count": null,
   "metadata": {},
   "outputs": [],
   "source": [
    "data_category = {\n",
    "'need_all': [\"ทุกสาขา\", \"ไม่จำกัด\", \"ไม่กำหนด\", \"ไม่เน้น\", \"ปริญญาตรี\", \"สาขาใดก็ได้\"],\n",
    "'Management': [\"yp=u\",\"Finance\" , \"บันชี\", \"ตลาด\", \"การเงิน\", \"บัญชี\", \"บริหาร\", \"โลจิสติกส์\", \"การขาย\", \"ทรัพยากรมนุษย์\", \"เศรษฐศาสตร์\", \"การจัดการ\", \"logistic\", \"business\", \"accounting\", \"commerce\", \"พาณิช\", \"งานบุคคล\", \"การบันชี\", \"ธุรการ\",],\n",
    "'Engineer': [\"วิศว\", \"engineer\", \"ไฟฟ้า\", \"เครื่องกล\", \"อุตสาหกรรม\", \"electrical\", \"อีเล็กทรอนิค\", \"อิเล็กทรอนิกส์\",\"อิเล็กทรอนิค\",\"อีเล็คทรอนิก\", \"ยานยนต์\", \"วิสว\", \"ไฟฟา\", \"อุตสาหการ\", \"โยธา\", \"rubber\", \"เครื่องจักร\"],\n",
    "'Science' : [\"โพลิเมอร์\", \"วิทยาศาสตร์\", \"เทคโนโลยีอาหาร\", \"สาธาณะสุข\", \"วิทยาศาสรต์\", \"อาหารและโภชนาการ\", \"สังคมสิ่งแวดล้อม\", \"เกษตร\", \"เกษคร\", \"ประมง\", \"คณิตศาสตร์\", \"การประกันภัย\", \"เทคโนโลยีการบรรจุ\", \"data science\", \"เกษตรกรรม\", \"คหกรรมศาสตร์\"],\n",
    "'Computer' : [\"computer\", \"it\", \"คอมพิวเตอร์\", \"สาร์นสนเทศน์\", \"programmer\", \"คอมฟิวเตอร์\", \"เทคโนโลยีสารสนเทศ\"],\n",
    "'Medicine' : [\"เฉพาะทางด้านไตเทียม\", \"เภสัช\", \"แพทย์\", \"พยาบาล\", \"การดูแลเด็กและผู้สูงอายุ\", \"สัตวแพทย์\", \"สัตวแพทย\", \"รังสีเทคนิค\", \"ทันตแพทย\", \"กายภาพบำบัด\", \"สาธารณสุข\", \"สัตวศาสตร์\"],\n",
    "'Education' : [\"มัธยมศึกษา\", \"ประถมศึกษา\", \"พัฒนาหลักสูตร\", \"ครุศาสตร์\", \"การสอน\", \"การศึกษา\", \"วิจัย\", \"การศึกษานอกระบบ\", \"เลขานุการ\", \"สื่อสารการศึกษา\", \"ศึกษาศาสตร์\", \"ปฐมวัย\"],\n",
    "'Arts' : [\"ศิลปกรรม\", \"กราฟฟิกส์ดีไซด์\", \"ออกแบบ\", \"ศิลป\", \"กราฟฟิคดีไซน์\", \"design\"],\n",
    "'Architecture' : [\"สถาปัต\", \"เขียนแบบ\"],\n",
    "'Literature' : [\"ญี่ปุ่น\", \"ภาษาอังกฤษ\", \"การสื่อสาร\", \"ภาษาต่างประเทศ\", \"อักษรศาสตร์\"],\n",
    "'Humanities' : [\"มนุษยศาสตร์\", \"มานุษยวิทยา\", \"มานุษยสงเคราะห์\"],\n",
    "'Laws' : [\"นิติ\", \"เลขานุการ\", \"กฎหมาย\", \"รัฐศาสตร์\", \"laws\"],\n",
    "'Communication Arts' : [\"ประชาสัมพันธ์\", \"นิเทศ\", \"สื่อสารมวลชน\"],\n",
    "'Music' : [\"ดุริยาง\", \"ดนตรี\"],\n",
    "'Hospitality and Tourism' : [\"การโรงแรม\", \"การบริการ\", \"สาขาท่องเที่ยว\"],\n",
    "}\n"
   ]
  },
  {
   "attachments": {},
   "cell_type": "markdown",
   "metadata": {},
   "source": [
    "# Group and Change lang Data\n",
    "การ clean data ขั้นที่ 3\n",
    "- การ clean data ขั้นที่ 3 เป็นการเปลี่ยนข้อมูลใน dataframe ให้แยกตามหมวดหมู่ตามที่เราเคยแยกหมวดหมู่ไว้ก่อนหน้านี้"
   ]
  },
  {
   "cell_type": "code",
   "execution_count": null,
   "metadata": {},
   "outputs": [],
   "source": [
    "for k in list_cleaned_data:\n",
    "    for num in range(len(k.Major)):\n",
    "        for i in range(len(data_category)):\n",
    "            match = re.search(\"|\".join(list(data_category.values())[i]), k.Major[num].lower())\n",
    "            if match is not None:\n",
    "                k.loc[k['Major'].str.contains(k.Major[num]), 'Major'] = list(data_category.keys())[i]"
   ]
  },
  {
   "cell_type": "code",
   "execution_count": null,
   "metadata": {},
   "outputs": [],
   "source": [
    "list_cleaned_data[0].head(10)"
   ]
  },
  {
   "attachments": {},
   "cell_type": "markdown",
   "metadata": {},
   "source": [
    "# Aggregate the data\n",
    "การจัดรูปแบบ dataframe ให้ group by โดย Major"
   ]
  },
  {
   "cell_type": "code",
   "execution_count": null,
   "metadata": {},
   "outputs": [],
   "source": [
    "list_new_data = []\n",
    "aggregation_functions = {'Male': 'sum', 'Female': 'sum', 'Unknow_Gender': 'sum', 'Thai': 'sum', 'Non_Thai': 'sum', 'Total_Work_Demand': 'sum'}\n",
    "\n",
    "for c in list_cleaned_data:\n",
    "    new_data = c.copy()\n",
    "    new_data = new_data.groupby(c.Major).aggregate(aggregation_functions)\n",
    "    new_data.sort_values(\"Thai\", inplace=True, ascending=False)\n",
    "    new_data.reset_index(inplace=True)\n",
    "    list_new_data.append(new_data)\n",
    "\n",
    "all_new_data = pd.concat(list_new_data, axis=0)\n",
    "all_new_data = all_new_data.groupby(all_new_data.Major).aggregate(aggregation_functions)\n",
    "all_new_data.sort_values(\"Thai\", inplace=True, ascending=False)\n",
    "all_new_data.reset_index(inplace=True)"
   ]
  },
  {
   "cell_type": "code",
   "execution_count": null,
   "metadata": {},
   "outputs": [],
   "source": [
    "list_new_data[0]"
   ]
  },
  {
   "cell_type": "code",
   "execution_count": null,
   "metadata": {},
   "outputs": [],
   "source": [
    "all_new_data.head(10)"
   ]
  },
  {
   "attachments": {},
   "cell_type": "markdown",
   "metadata": {},
   "source": [
    "# Sort data\n",
    "การทำ timestamp เพื่อให้ข้อมูลมารวมกันและสามารถระบุได้ว่าข้อมูลนี้เป็นของปีอะไร"
   ]
  },
  {
   "cell_type": "code",
   "execution_count": null,
   "metadata": {},
   "outputs": [],
   "source": [
    "start_year = 2563\n",
    "for i, c in enumerate(list_new_data):\n",
    "    c.insert(0, \"Year\", str(start_year + i),True)\n",
    "\n",
    "year_with_timestamp = pd.concat(list_new_data, axis=0)"
   ]
  },
  {
   "cell_type": "code",
   "execution_count": null,
   "metadata": {},
   "outputs": [],
   "source": [
    "year_with_timestamp.head(10)"
   ]
  },
  {
   "attachments": {},
   "cell_type": "markdown",
   "metadata": {},
   "source": [
    "# Graph\n",
    "กราฟที่แสดงให้เห็นถึง demand ในการจ้างงานแรงงานไทยของแต่ละวิชาสาขา ป.ตรีต่อปี\n",
    "- อันดับ 1 บริหารธุรกิจมีความต้องการการจ้างงานแรงงานไทยของแต่ละวิชาสาขา ป.ตรีต่อปี 569 คน\n",
    "- อันดับ 2 วิศวกรรมมีความต้องการการจ้างงานแรงงานไทยของแต่ละวิชาสาขา ป.ตรีต่อปี 369 คน\n",
    "- อันดับ 3 คอมพิวเตอร์มีความต้องการการจ้างงานแรงงานไทยของแต่ละวิชาสาขา ป.ตรีต่อปี 253 คน\n",
    "- จากการวิเคราะห์ข้อมูลจะเห็นได้ว่า บริหารมีความต้องการการจ้างงานแรงงานไทยของแต่ละวิชาสาขา ป.ตรี มากที่สุด"
   ]
  },
  {
   "cell_type": "code",
   "execution_count": null,
   "metadata": {},
   "outputs": [],
   "source": [
    "index_num = list_data_name.index('2565')\n",
    "data = list_new_data[index_num]\n",
    "\n",
    "data = data[data['Major'] != 'need_all']\n",
    "data = data.sort_values(by='Thai', ascending= False)\n",
    "data = data.head(7)\n",
    "data = data.reset_index(drop= True)\n",
    "\n",
    "matplotlib.pyplot.figure(figsize=(15, 6))\n",
    "sns.barplot(x='Thai', y='Major', data= data, width = 0.5)\n",
    "\n",
    "for i in data.index:\n",
    "    if i > data.index[2]:\n",
    "        matplotlib.pyplot.barh(y=data['Major'][i], width=data['Thai'][i], color='gray', height=0.5)\n",
    "    else:\n",
    "        matplotlib.pyplot.barh(y=data['Major'][i], width=data['Thai'][i], alpha= 1, height=0.5)\n",
    "\n",
    "matplotlib.pyplot.xlabel('Number of Thai Labor (people)', fontsize = 14)\n",
    "matplotlib.pyplot.ylabel('Branch of Study', fontsize = 14)\n",
    "matplotlib.pyplot.title(f'Thai Labor Distribution by Branch of Study in {list_data_name[index_num]}', fontsize = 18)\n",
    "matplotlib.pyplot.gca().xaxis.grid(True, linestyle='-', which='major', color='lightgrey', alpha=0.5)\n",
    "\n",
    "for i, value in enumerate(data['Thai']):\n",
    "    matplotlib.pyplot.text(value, i, str(value), va='center', fontsize = 14)\n",
    "    \n",
    "matplotlib.pyplot.show()"
   ]
  },
  {
   "attachments": {},
   "cell_type": "markdown",
   "metadata": {},
   "source": [
    "กราฟแสดงความเปลี่ยนแปลงความต้องการ การจ้างงานแรงงานไทยของแต่ละวิชาสาขา ป.ตรี ตั้งแต่ปี 2563-2565\n",
    "- ในปี 2563 วิศวกรรมมี demand การจ้างงานแรงงานไทยของแต่ละวิชาสาขา ป.ตรี สูงที่สุด\n",
    "- ในช่วงปี 2564-2565 บริหารธุรกิจมี demand การจ้างงานแรงงานไทยของแต่ละวิชาสาขา ป.ตรี มากกว่าวิชาสาขาอื่น ๆ และมีแนวโน้มเพิ่มสูงมากขึ้น\n",
    "- จากกราฟจะแสดงให้เห็นว่า demand การจ้างงานแรงงานไทยของแต่ละวิชาสาขา ป.ตรี มีแนวโน้มเพิ่มขึ้นในทุก ๆ ปี ซึ่งบริหารธุรกิจมีแนวโน้มเพิ่มขึ้นสูงมากที่สุด"
   ]
  },
  {
   "cell_type": "code",
   "execution_count": null,
   "metadata": {},
   "outputs": [],
   "source": [
    "year_major_group = year_with_timestamp.groupby(['Year', 'Major'])['Thai'].sum().reset_index()\n",
    "\n",
    "top_5_majors = year_major_group['Major'].value_counts().head(6).index.tolist()\n",
    "top_5_data = year_major_group[(year_major_group['Major'].isin(top_5_majors)) & (year_major_group['Major'] != 'need_all')]\n",
    "\n",
    "matplotlib.pyplot.figure(figsize=(15, 6))\n",
    "matplotlib.pyplot.title('Line plot of Thai Labor by Branch of Study and Year', fontsize = 18)\n",
    "\n",
    "sns.set_style(\"darkgrid\")\n",
    "sns.lineplot(x ='Year', y ='Thai', hue = 'Major', data = top_5_data)\n",
    "matplotlib.pyplot.xticks(year_with_timestamp['Year'].unique())\n",
    "matplotlib.pyplot.xlabel('Year')\n",
    "matplotlib.pyplot.ylabel('Thai Labor (people)')\n",
    "\n",
    "matplotlib.pyplot.gca().yaxis.grid(True, linestyle='-', which='major', color='lightgrey', alpha=0.5)\n",
    "\n",
    "matplotlib.pyplot.show()"
   ]
  },
  {
   "attachments": {},
   "cell_type": "markdown",
   "metadata": {},
   "source": [
    "กราฟที่แสดงให้เห็นการเปรียบเทียบของ 2 ปี\n",
    "- สีชมพูอ่อน หมายถึง ปริมาณที่เพิ่มขึ้นจาก year1 \n",
    "- สีน้ำเงิน หมายถึง ปริมาณที่ลดลงจาก year1\n",
    "- สีม่วง หมายถึง ปริมาณของ year1 และ year2 ซ้อนทับกัน"
   ]
  },
  {
   "cell_type": "code",
   "execution_count": null,
   "metadata": {},
   "outputs": [],
   "source": [
    "@ipywidgets.interact(year1= list_data_name, year2 = list_data_name)\n",
    "def my_graph(year1, year2):\n",
    "    if year2 >= year1:\n",
    "        index_num1 = list_data_name.index(year1)\n",
    "        data1 = list_new_data[index_num1]\n",
    "        index_num2 = list_data_name.index(year2)\n",
    "        data2 = list_new_data[index_num2]\n",
    "\n",
    "        matplotlib.pyplot.figure(figsize=(15, 6))\n",
    "        matplotlib.pyplot.bar(data1['Major'], data1['Thai'], color='blue', alpha=0.8, label= year1)\n",
    "        matplotlib.pyplot.bar(data2['Major'], data2['Thai'], color='red', alpha=0.4, label= year2)\n",
    "        matplotlib.pyplot.xlabel('Major')\n",
    "        matplotlib.pyplot.ylabel('Thai labor (people)')\n",
    "        matplotlib.pyplot.title('Thai Labor Demand by Major')\n",
    "        matplotlib.pyplot.yticks(np.arange(0, max(data1['Thai'].max(), data2['Thai'].max()), 20))\n",
    "        matplotlib.pyplot.legend()\n",
    "        matplotlib.pyplot.show()\n",
    "    else:\n",
    "        print(\"year2 must have more or equal than year1\")"
   ]
  },
  {
   "attachments": {},
   "cell_type": "markdown",
   "metadata": {},
   "source": [
    "<div style=\"text-align:center\">\n",
    "  <img src=\"https://raw.githubusercontent.com/Comrade26/Interesting_data_project/main/team7_assgn1/JBP.jpg\" alt=\"alt text\">\n",
    "</div>"
   ]
  },
  {
   "attachments": {},
   "cell_type": "markdown",
   "metadata": {},
   "source": [
    "รวมความต้องการการจ้างงานในแรงงานไทยของแต่ละวิชาสาขา ป.ตรี ตั้งแต่ปี 2563-2565 \n",
    "- รวมความต้องการการจ้างงานแรงงานไทยของแต่ละวิชาสาขา ป.ตรี ของบริหารธุรกิจมี 1,047 คน ซึ่งมากกว่าวิศวกรรม เกือบ 400 คน และมากกว่าคอมพิวเตอร์ เกือบ 700 คน\n",
    "- คอมพิวเตอร์ที่อยู่อันดับ 3 รวมความต้องการการจ้างงานแรงงานไทยของแต่ละวิชาสาขา ป.ตรี ซึ่งมากกว่าอันดับที่ 4 วิทยาศาสตร์ มากถึง 3 เท่า\n",
    "- ทำให้เห็นถึง demand รวมความต้องการการจ้างงานแรงงานไทยของแต่ละวิชาสาขาในช่วงปัจจุบันที่อาจจะมีแนวโน้มเพิ่มขึ้น ของสาขาวิชาบริหารธุรกิจ, วิศวกรรม และคอมพิวเตอร์"
   ]
  },
  {
   "cell_type": "code",
   "execution_count": null,
   "metadata": {},
   "outputs": [],
   "source": [
    "new_data_all_10 = all_new_data.head(10)\n",
    "new_data_all_10 = new_data_all_10[new_data_all_10.Major != 'need_all']\n",
    "\n",
    "matplotlib.pyplot.figure(figsize = (15, 6))\n",
    "sns.barplot(x='Major', y='Thai', data=new_data_all_10)\n",
    "for index, value in enumerate(new_data_all_10['Thai']):\n",
    "    matplotlib.pyplot.text(index, value, str(value), fontsize = 16, ha = 'center')\n",
    "    if index > 2:\n",
    "        matplotlib.pyplot.bar(index, value, color='darkgray')\n",
    "\n",
    "matplotlib.pyplot.title(\"Top 3 Major Demand For Thai\", fontsize = 20)\n",
    "matplotlib.pyplot.xlabel(\"Major\", fontsize = 16)\n",
    "matplotlib.pyplot.ylabel(\"Job Demand (people)\", fontsize = 16)\n",
    "\n",
    "matplotlib.pyplot.grid(visible = True, axis = 'y')\n",
    "\n",
    "matplotlib.pyplot.show()"
   ]
  },
  {
   "attachments": {},
   "cell_type": "markdown",
   "metadata": {},
   "source": [
    "การเปรียบเทียบระหว่างผู้ชายและผู้หญิงในแต่ละสาขาวิชา\n",
    "- จากกราฟ จะเห็นได้ว่า ความต้องการการจ้างงานแรงงานไทยของแต่ละวิชาสาขา ป.ตรีของวิศวกรรมและคอมพิวเตอร์มีจำนวนผู้ชายมากกว่าเมื่อเทียบเป็นเปอร์เซนต์ของแต่ละสาขาวิชา\n",
    "- บริหารธุรกิจมีจำนวนผู้หญิงมากกว่าเมื่อเทียบเป็นเปอร์เซนต์ของแต่ละสาขาวิชา\n",
    "- ทำให้เห็นผลลัพธ์จากการทำงานของชายและหญิงที่แตกต่างกัน โดยผู้หญิงมักจะทำงานประเภทเกี่ยวกับที่ต้องมีการพบปะผู้คนเป็นส่วนใหญ่ ในขณะที่ผู้ชายมักจะทำงานที่มีสิ่งของ"
   ]
  },
  {
   "cell_type": "code",
   "execution_count": null,
   "metadata": {},
   "outputs": [],
   "source": [
    "new_data_all = all_new_data.sort_values(by='Thai', ascending=False).head(6)\n",
    "new_data_all = new_data_all[new_data_all.Major != 'need_all']\n",
    "\n",
    "new_data_all = new_data_all.reset_index()\n",
    "for i in range(len(new_data_all)):\n",
    "    total = (new_data_all.at[i, \"Male\"] + new_data_all.at[i, \"Female\"])\n",
    "    new_data_all.at[i, \"Male\"] = (new_data_all.at[i, \"Male\"] / total) * 100\n",
    "    new_data_all.at[i, \"Female\"] = (new_data_all.at[i, \"Female\"] / total) * 100\n",
    "\n",
    "index = np.arange(len(new_data_all.index))\n",
    "bar_width = 0.35\n",
    "\n",
    "fig, ax = matplotlib.pyplot.subplots(figsize = (15,6))\n",
    "male = ax.bar(index, new_data_all[\"Male\"], bar_width, label=\"Male\", color = \"#2060df\")\n",
    "female = ax.bar(index + bar_width, new_data_all[\"Female\"], bar_width, label=\"Female\", color = \"#e44b8d\")\n",
    "\n",
    "for i, v in enumerate(male):\n",
    "    ax.text(i, v.get_height()+0.5, str(round(v.get_height(), 2)) + '%', fontsize = 16, ha='center')\n",
    "for i, v in enumerate(female):\n",
    "    ax.text(i  + bar_width, v.get_height()+0.5, str(round(v.get_height(), 2)) + '%', fontsize = 16, ha='center')\n",
    "\n",
    "matplotlib.pyplot.title(\"Work Force Demand Sort By Major and Gender (Percentage Within Major)\", fontsize=20)\n",
    "matplotlib.pyplot.xticks(index + bar_width/2, new_data_all.Major, fontsize=16, rotation=45)\n",
    "matplotlib.pyplot.xlabel(\"Major\", fontsize=16)\n",
    "matplotlib.pyplot.ylabel(\"Percentage of Workers (percent)\", fontsize=16)\n",
    "matplotlib.pyplot.legend(loc='best', fontsize=18, frameon=False)\n",
    "\n",
    "matplotlib.pyplot.yticks(fontsize=16)\n",
    "matplotlib.pyplot.ylim(0, 100) # set y-axis limit to 100\n",
    "matplotlib.pyplot.show()"
   ]
  }
 ],
 "metadata": {
  "kernelspec": {
   "display_name": "base",
   "language": "python",
   "name": "python3"
  },
  "language_info": {
   "codemirror_mode": {
    "name": "ipython",
    "version": 3
   },
   "file_extension": ".py",
   "mimetype": "text/x-python",
   "name": "python",
   "nbconvert_exporter": "python",
   "pygments_lexer": "ipython3",
   "version": "3.9.13"
  },
  "orig_nbformat": 4,
  "vscode": {
   "interpreter": {
    "hash": "ad2bdc8ecc057115af97d19610ffacc2b4e99fae6737bb82f5d7fb13d2f2c186"
   }
  }
 },
 "nbformat": 4,
 "nbformat_minor": 2
}
