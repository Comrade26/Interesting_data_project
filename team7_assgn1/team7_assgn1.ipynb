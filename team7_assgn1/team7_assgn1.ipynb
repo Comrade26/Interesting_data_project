{
 "cells": [
  {
   "attachments": {},
   "cell_type": "markdown",
   "metadata": {},
   "source": [
    "![กระทรวงแรงงาน](https://raw.githubusercontent.com/Comrade26/Interesting_data_project/main/team7_assgn1/logo_laber.jpg \"กระทรวงแรงงาน\")\n",
    "\n",
    "https://ldls.mol.go.th/main"
   ]
  },
  {
   "attachments": {},
   "cell_type": "markdown",
   "metadata": {},
   "source": [
    "# Import module"
   ]
  },
  {
   "attachments": {},
   "cell_type": "markdown",
   "metadata": {},
   "source": [
    " Import module                 |   Description                          \n",
    "-------------------------------|-------------------------------------\n",
    " import `re`                   |   ใช้ในการ search หา str ใน text        \n",
    " import `numpy`                |   ใช้ในการจัดรูปแบบกราฟวิเคราะห์ข้อมูล        \n",
    " import `pandas`               |   ใช้ในการจัดการข้อมูลที่เป็น dataframe       \n",
    " import `seaborn`              |   ใช้ในการทำรูปแบบกราฟต่าง ๆ ของข้อมูล      \n",
    " import `matplotlib.pyplot`    |   ใช้ในการคำนวณและ plot กราฟ            "
   ]
  },
  {
   "cell_type": "code",
   "execution_count": 1,
   "metadata": {},
   "outputs": [],
   "source": [
    "import re\n",
    "import requests\n",
    "import numpy as np\n",
    "import pandas as pd\n",
    "import seaborn as sns\n",
    "import matplotlib.pyplot as plt"
   ]
  },
  {
   "attachments": {},
   "cell_type": "markdown",
   "metadata": {},
   "source": [
    "# Read CSV file\n",
    "อ่านไฟล์ CSV ทั้งหมด 5 ไฟล์ ประกอบด้วยข้อมูลสาขาวิชาของป.ตรี ปี 2563, 2564, 2565, 2566 และข้อมูลที่รวมทั้ง 4 ปีเข้าด้วยกัน"
   ]
  },
  {
   "cell_type": "code",
   "execution_count": 2,
   "metadata": {},
   "outputs": [],
   "source": [
    "url = 'https://api.github.com/repos/Comrade26/Interesting_data_project/contents/team7_assgn1/data/'\n",
    "response = requests.get(url)\n",
    "list_data_name = []\n",
    "list_data_url = []\n",
    "list_data = []\n",
    "\n",
    "if response.status_code == 200:\n",
    "    files = response.json()\n",
    "    for file in files:\n",
    "        list_data_name.append(file['name'][:-4])\n",
    "        list_data.append(pd.read_csv(file['download_url']))\n",
    "else:\n",
    "    print(response.json()['message'])"
   ]
  },
  {
   "attachments": {},
   "cell_type": "markdown",
   "metadata": {},
   "source": [
    "# List data importantly\n",
    "การ clean data ขั้นที่ 1\n",
    "1. เปลี่ยนชื่อคอลัมน์จากภาษาไทยเป็นภาษาอังกฤษ ทำเพื่อให้เวลา plot กราฟ ไม่ต้องมีการกำหนด font\n",
    "2. ลบตัวอักษรบางตัวที่อาจก่อให้เกิด Erro code เช่น \"-\" "
   ]
  },
  {
   "cell_type": "code",
   "execution_count": null,
   "metadata": {},
   "outputs": [],
   "source": [
    "dict_for_change = {\"สาขาวิชา\": \"Major\",\t\"ชาย\": \"Male\", \"หญิง\": \"Female\", \"ไม่ระบุเพศ\" : \"Unknow_Gender\", \"แรงงานไทย\": \"Thai\", \"แรงงานต่างด้าว\": \"Non_Thai\", \"แรงงานที่ต้องการรวม\": \"Total_Work_Demand\"}\n",
    "\n",
    "letter_box = [\"-\", \"(\", \")\", \"[\", \"]\"]\n",
    "for c in list_data:\n",
    "    for n in range(len(dict_for_change)):\n",
    "        c.columns = c.columns.str.replace(list(dict_for_change.keys())[n],list(dict_for_change.values())[n]) \n",
    "    for i in range(len(c.Major)):\n",
    "        for letter in letter_box:\n",
    "            c.loc[i, \"Major\"] = c.loc[i, \"Major\"].replace(letter, \" \")\n",
    "\n"
   ]
  },
  {
   "attachments": {},
   "cell_type": "markdown",
   "metadata": {},
   "source": [
    "# Clean Data\n",
    "การ clean data ขั้นที่ 2\n",
    "<br>\n",
    "การ clean data ขั้นนี้ทำเพื่อลบข้อมูลที่อาจจะผิดออกจาก data ของข้อมูลเดิม"
   ]
  },
  {
   "cell_type": "code",
   "execution_count": null,
   "metadata": {},
   "outputs": [],
   "source": [
    "all_name = []\n",
    "not_want_word = [\"ปวส\", \"ปวช\", \"ป.โท\", \"ช่าง\", \"สำนักงานใหญ๋\", \"วิชาชีพ\", \"ผู้ควบคุม\", \"ทั่วไป\", \"อาชีว\", \"ก่อสร้าง\", \"เชื่อมโลหะ\", \"เทคนิค\", \"แม่พิมพ์โลหะ\", \"ที่เกี่ยวข้อง\", \"ฝ่ายผลิต\", \"การผลิต\", \"ความปลอดภัย\", \"ช่่างยนต์\", \"สำนักงานใหญ่\"]\n",
    "for c in list_data:\n",
    "    for i in range(len(c)):\n",
    "        match_not_wanted = re.search(\"|\".join(not_want_word), c.Major[i])\n",
    "        if match_not_wanted is not None:\n",
    "            c.Major = c.Major.drop(i)\n",
    "        else:\n",
    "            all_name.append(c.Major[i])\n",
    "\n",
    "clean_data_2563 = data_2563.dropna().reset_index(drop= True)\n",
    "clean_data_2564 = data_2564.dropna().reset_index(drop= True)\n",
    "clean_data_2565 = data_2565.dropna().reset_index(drop= True)\n",
    "clean_data_2566 = data_2566.dropna().reset_index(drop= True)\n",
    "clean_data_all = data_all.dropna().reset_index(drop= True)\n",
    "\n",
    "clean_list_data = [clean_data_2563, clean_data_2564, clean_data_2565, clean_data_2566, clean_data_all]"
   ]
  },
  {
   "attachments": {},
   "cell_type": "markdown",
   "metadata": {},
   "source": [
    "# Category of data\n",
    "การแยกประเภท data เพื่อใช้ในการ clean data ในลำดับถัดไป"
   ]
  },
  {
   "cell_type": "code",
   "execution_count": null,
   "metadata": {},
   "outputs": [],
   "source": [
    "need_all = [\"ทุกสาขา\", \"ไม่จำกัด\", \"ไม่กำหนด\", \"ไม่เน้น\", \"ปริญญาตรี\", \"สาขาใดก็ได้\"]\n",
    "บริหาร = [\"yp=u\",\"Finance\" , \"บันชี\", \"ตลาด\", \"การเงิน\", \"บัญชี\", \"บริหาร\", \"โลจิสติกส์\", \"การขาย\", \"ทรัพยากรมนุษย์\", \"เศรษฐศาสตร์\", \"การจัดการ\", \"logistic\", \"business\", \"accounting\", \"commerce\", \"พาณิช\", \"งานบุคคล\", \"การบันชี\", \"ธุรการ\",]\n",
    "วิศวกรรม = [\"วิศว\", \"engineer\", \"ไฟฟ้า\", \"เครื่องกล\", \"อุตสาหกรรม\", \"electrical\", \"อีเล็กทรอนิค\", \"อิเล็กทรอนิกส์\",\"อิเล็กทรอนิค\",\"อีเล็คทรอนิก\", \"ยานยนต์\", \"วิสว\", \"ไฟฟา\", \"อุตสาหการ\", \"โยธา\", \"rubber\", \"เครื่องจักร\"]\n",
    "วิทยาศาสตร์ = [\"โพลิเมอร์\", \"วิทยาศาสตร์\", \"เทคโนโลยีอาหาร\", \"สาธาณะสุข\", \"วิทยาศาสรต์\", \"อาหารและโภชนาการ\", \"สังคมสิ่งแวดล้อม\", \"เกษตร\", \"เกษคร\", \"ประมง\", \"คณิตศาสตร์\", \"การประกันภัย\", \"เทคโนโลยีการบรรจุ\", \"data science\", \"เกษตรกรรม\", \"คหกรรมศาสตร์\"]\n",
    "เทคโนโลยีสารสนเทศ = [\"computer\", \"it\", \"คอมพิวเตอร์\", \"สาร์นสนเทศน์\", \"programmer\", \"คอมฟิวเตอร์\", \"เทคโนโลยีสารสนเทศ\"]\n",
    "แพทย์ศาสตร์ = [\"เฉพาะทางด้านไตเทียม\", \"เภสัช\", \"แพทย์\", \"พยาบาล\", \"การดูแลเด็กและผู้สูงอายุ\", \"สัตวแพทย์\", \"สัตวแพทย\", \"รังสีเทคนิค\", \"ทันตแพทย\", \"กายภาพบำบัด\", \"สาธารณสุข\", \"สัตวศาสตร์\"]\n",
    "ครุศาสตร์ = [\"มัธยมศึกษา\", \"ประถมศึกษา\", \"พัฒนาหลักสูตร\", \"ครุศาสตร์\", \"การสอน\", \"การศึกษา\", \"วิจัย\", \"การศึกษานอกระบบ\", \"เลขานุการ\", \"สื่อสารการศึกษา\", \"ศึกษาศาสตร์\", \"ปฐมวัย\"]\n",
    "ศิลปศาสตร์ = [\"ศิลปกรรม\", \"กราฟฟิกส์ดีไซด์\", \"ออกแบบ\", \"ศิลป\", \"กราฟฟิคดีไซน์\", \"design\"]\n",
    "สถาปัตยกรรมศาสตร์ = [\"สถาปัต\", \"เขียนแบบ\"]\n",
    "อักษรศาสตร์ = [\"ญี่ปุ่น\", \"ภาษาอังกฤษ\", \"การสื่อสาร\", \"ภาษาต่างประเทศ\", \"อักษรศาสตร์\"]\n",
    "มนุษยศาสตร์ = [\"มนุษยศาสตร์\", \"มานุษยวิทยา\", \"มานุษยสงเคราะห์\"]\n",
    "นิติศาสตร์ = [\"นิติ\", \"เลขานุการ\", \"กฎหมาย\", \"รัฐศาสตร์\", \"laws\"]\n",
    "คณะนิเทศศาสตร์ = [\"ประชาสัมพันธ์\", \"นิเทศ\", \"สื่อสารมวลชน\"]\n",
    "ดุริยางคศาสตร์ = [\"ดุริยาง\", \"ดนตรี\"]\n",
    "การบริการและการท่องเที่ยว = [\"การโรงแรม\", \"การบริการ\", \"สาขาท่องเที่ยว\"]"
   ]
  },
  {
   "attachments": {},
   "cell_type": "markdown",
   "metadata": {},
   "source": [
    "# Group and Change lang Data\n",
    "การ clean data ขั้นที่ 3 เป็นการเปลี่ยนข้อมูลใน dataframe ให้แยกตามหมวดหมู่ตามที่เราเคยแยกหมวดหมู่ไว้ก่อนหน้านี้"
   ]
  },
  {
   "cell_type": "code",
   "execution_count": null,
   "metadata": {},
   "outputs": [],
   "source": [
    "need_attention = []\n",
    "\n",
    "for k in clean_list_data:\n",
    "    for num in range(len(k.Major)):\n",
    "        match_need_all = re.search(\"|\".join(need_all), k.Major[num].lower())\n",
    "        match_บริหาร = re.search(\"|\".join(บริหาร), k.Major[num].lower())\n",
    "        match_วิศวกรรม = re.search(\"|\".join(วิศวกรรม), k.Major[num].lower())\n",
    "        match_วิทยาศาสตร์ = re.search(\"|\".join(วิทยาศาสตร์), k.Major[num].lower())\n",
    "        match_เทคโนโลยีสารสนเทศ = re.search(\"|\".join(เทคโนโลยีสารสนเทศ), k.Major[num].lower())\n",
    "        match_แพทย์ศาสตร์ = re.search(\"|\".join(แพทย์ศาสตร์), k.Major[num].lower())\n",
    "        match_ครุศาสตร์ = re.search(\"|\".join(ครุศาสตร์), k.Major[num].lower())\n",
    "        match_ศิลปศาสตร์ = re.search(\"|\".join(ศิลปศาสตร์), k.Major[num].lower())\n",
    "        match_สถาปัตยกรรมศาสตร์ = re.search(\"|\".join(สถาปัตยกรรมศาสตร์), k.Major[num].lower())\n",
    "        match_อักษรศาสตร์ = re.search(\"|\".join(อักษรศาสตร์), k.Major[num].lower())\n",
    "        match_มนุษยศาสตร์ = re.search(\"|\".join(มนุษยศาสตร์), k.Major[num].lower())\n",
    "        match_นิติศาสตร์ = re.search(\"|\".join(นิติศาสตร์), k.Major[num].lower())\n",
    "        match_คณะนิเทศศาสตร์ = re.search(\"|\".join(คณะนิเทศศาสตร์), k.Major[num].lower())\n",
    "        match_ดุริยางคศาสตร์ = re.search(\"|\".join(ดุริยางคศาสตร์), k.Major[num].lower())\n",
    "        match_การบริการและการท่องเที่ยว = re.search(\"|\".join(การบริการและการท่องเที่ยว), k.Major[num].lower())\n",
    "        if match_need_all is not None:\n",
    "            k.loc[k['Major'].str.contains(k.Major[num]), 'Major'] = 'Any Major'\n",
    "        elif match_บริหาร is not None:\n",
    "            k.loc[k['Major'].str.contains(k.Major[num]), 'Major'] = 'Management'\n",
    "        elif match_วิทยาศาสตร์ is not None:\n",
    "            k.loc[k['Major'].str.contains(k.Major[num]), 'Major'] = 'Science'\n",
    "        elif match_วิศวกรรม is not None:\n",
    "            k.loc[k['Major'].str.contains(k.Major[num]), 'Major'] = 'Engineering'\n",
    "        elif match_เทคโนโลยีสารสนเทศ is not None:\n",
    "            k.loc[k['Major'].str.contains(k.Major[num]), 'Major'] = 'Computer'\n",
    "        elif match_แพทย์ศาสตร์ is not None:\n",
    "            k.loc[k['Major'].str.contains(k.Major[num]), 'Major'] = 'Medicine'\n",
    "        elif match_ครุศาสตร์ is not None:\n",
    "            k.loc[k['Major'].str.contains(k.Major[num]), 'Major'] = 'Education'\n",
    "        elif match_ศิลปศาสตร์ is not None:\n",
    "            k.loc[k['Major'].str.contains(k.Major[num]), 'Major'] = 'Art'\n",
    "        elif match_สถาปัตยกรรมศาสตร์ is not None:\n",
    "            k.loc[k['Major'].str.contains(k.Major[num]), 'Major'] = 'Architecture'\n",
    "        elif match_อักษรศาสตร์ is not None:\n",
    "            k.loc[k['Major'].str.contains(k.Major[num]), 'Major'] = 'Literature'\n",
    "        elif match_มนุษยศาสตร์ is not None:\n",
    "            k.loc[k['Major'].str.contains(k.Major[num]), 'Major'] = 'Humanities'\n",
    "        elif match_นิติศาสตร์ is not None:\n",
    "            k.loc[k['Major'].str.contains(k.Major[num]), 'Major'] = 'Law'\n",
    "        elif match_คณะนิเทศศาสตร์ is not None:\n",
    "            k.loc[k['Major'].str.contains(k.Major[num]), 'Major'] = 'Communication Arts'\n",
    "        elif match_ดุริยางคศาสตร์ is not None:\n",
    "            k.loc[k['Major'].str.contains(k.Major[num]), 'Major'] = 'Music'\n",
    "        elif match_การบริการและการท่องเที่ยว is not None:\n",
    "            k.loc[k['Major'].str.contains(k.Major[num]), 'Major'] = 'Tourism and Hospitality'\n",
    "        else: need_attention.append(k.Major[num])"
   ]
  },
  {
   "attachments": {},
   "cell_type": "markdown",
   "metadata": {},
   "source": [
    "# Aggregate the data\n",
    "การจัดรูปแบบ dataframe ให้ group by โดย Major"
   ]
  },
  {
   "cell_type": "code",
   "execution_count": null,
   "metadata": {},
   "outputs": [],
   "source": [
    "aggregation_functions = {'Male': 'sum', 'Female': 'sum', 'Unknow_Gender': 'sum', 'Thai': 'sum', 'Non_Thai': 'sum', 'Total_Work_Demand': 'sum'}\n",
    "new_data_2563 = clean_data_2563.groupby(clean_data_2563.Major).aggregate(aggregation_functions)\n",
    "new_data_2564 = clean_data_2564.groupby(clean_data_2564.Major).aggregate(aggregation_functions)\n",
    "new_data_2565 = clean_data_2565.groupby(clean_data_2565.Major).aggregate(aggregation_functions)\n",
    "new_data_2566 = clean_data_2566.groupby(clean_data_2566.Major).aggregate(aggregation_functions)\n",
    "new_data_all = clean_data_all.groupby(clean_data_all.Major).aggregate(aggregation_functions)\n",
    "\n",
    "new_data_2563.sort_values(\"Thai\", inplace=True, ascending=False).reset_index(inplace=True)\n",
    "new_data_2563.reset_index(inplace=True)\n",
    "\n",
    "new_data_2564.sort_values(\"Thai\", inplace=True, ascending=False)\n",
    "new_data_2564.reset_index(inplace=True)\n",
    "\n",
    "new_data_2565.sort_values(\"Thai\", inplace=True, ascending=False)\n",
    "new_data_2565.reset_index(inplace=True)\n",
    "\n",
    "new_data_2566.sort_values(\"Thai\", inplace=True, ascending=False)\n",
    "new_data_2566.reset_index(inplace=True)\n",
    "\n",
    "new_data_all.sort_values(\"Thai\", inplace=True, ascending=False)\n",
    "new_data_all.reset_index(inplace=True)\n",
    "\n",
    "new_list_data = [new_data_2563, new_data_2564, new_data_2565, new_data_2565, new_data_2566, new_data_all]"
   ]
  },
  {
   "attachments": {},
   "cell_type": "markdown",
   "metadata": {},
   "source": [
    "# Sort data\n",
    "การทำ timestamp เพื่อให้ข้อมูลมารวมกันและสามารถระบุได้ว่าข้อมูลนี้เป็นของปีอะไร"
   ]
  },
  {
   "cell_type": "code",
   "execution_count": null,
   "metadata": {},
   "outputs": [],
   "source": [
    "year_only_list = [clean_data_2563, clean_data_2564, clean_data_2565]\n",
    "start_year = 2563\n",
    "\n",
    "for i, c in enumerate(year_only_list):\n",
    "    c.insert(0, \"Year\", str(start_year + i),True)\n",
    "\n",
    "year_with_timestamp = pd.concat(year_only_list, axis=0)\n",
    "\n",
    "year_with_timestamp.reset_index(inplace= True, drop=True)"
   ]
  },
  {
   "attachments": {},
   "cell_type": "markdown",
   "metadata": {},
   "source": [
    "# Line graph\n",
    "กราฟที่แสดงให้เห็นถึง demand ในการจ้างงานของวิชาสาขาต่อปี"
   ]
  },
  {
   "cell_type": "code",
   "execution_count": null,
   "metadata": {},
   "outputs": [],
   "source": [
    "year_major_group = year_with_timestamp.groupby(['Year', 'Major'])['Thai'].sum().reset_index()\n",
    "\n",
    "top_5_majors = year_major_group['Major'].value_counts().head(6).index.tolist()\n",
    "top_5_data = year_major_group[(year_major_group['Major'].isin(top_5_majors)) & (year_major_group['Major'] != 'Any Major')]\n",
    "\n",
    "plt.figure(figsize=(20, 10))\n",
    "plt.title('Line plot of Thai Labor by Branch of Study and Year', fontsize = 18)\n",
    "\n",
    "sns.set_style(\"darkgrid\")\n",
    "sns.lineplot(x ='Year', y ='Thai', hue = 'Major', data = top_5_data)\n",
    "plt.xticks(year_with_timestamp['Year'].unique())\n",
    "plt.xlabel('Year')\n",
    "plt.ylabel('Thai Labor')\n",
    "\n",
    "plt.gca().yaxis.grid(True, linestyle='-', which='major', color='lightgrey', alpha=0.5)\n",
    "\n",
    "plt.show()\n"
   ]
  },
  {
   "attachments": {},
   "cell_type": "markdown",
   "metadata": {},
   "source": [
    "# Growth\n",
    "แสดงการเปลี่ยนแปลงของ demand ตั้งแต่ปี 2563-2565 (จำนวนเท่า)"
   ]
  },
  {
   "cell_type": "code",
   "execution_count": null,
   "metadata": {},
   "outputs": [],
   "source": [
    "year_major_group = year_with_timestamp.groupby(['Year', 'Major'])['Thai'].sum().reset_index()\n",
    "\n",
    "year_major_group['percent_increase'] = round(year_major_group.groupby('Major')['Thai'].pct_change(), 1)\n",
    "\n",
    "average_increase = year_major_group.groupby('Major')['percent_increase'].mean()\n",
    "\n",
    "average_increase.sort_values(ascending= False).head(6)\n"
   ]
  },
  {
   "attachments": {},
   "cell_type": "markdown",
   "metadata": {},
   "source": [
    "# Bar Chart 1\n",
    "10 อันดับ demand ที่ต้องการในแรงงานไทย"
   ]
  },
  {
   "cell_type": "code",
   "execution_count": null,
   "metadata": {},
   "outputs": [],
   "source": [
    "new_data_all_10 = new_data_all.head(10)\n",
    "\n",
    "plt.figure(figsize=(20, 10))\n",
    "sns.barplot(x='Major', y='Thai', data=new_data_all_10)\n",
    "for index, value in enumerate(new_data_all_10['Thai']):\n",
    "    plt.text(index, value, str(value), fontsize=20, ha='center')\n",
    "\n",
    "plt.title(\"Top 10 Mojor Demand For Thai\", fontsize=20)\n",
    "plt.xlabel(\"Major\", fontsize=16)\n",
    "plt.ylabel(\"Amount\", fontsize=16)\n",
    "\n",
    "plt.grid(visible=True, axis='y')\n",
    "\n",
    "plt.show()"
   ]
  },
  {
   "attachments": {},
   "cell_type": "markdown",
   "metadata": {},
   "source": [
    "# Bar Chart 2\n",
    "การเปรียบเทียบระหว่างผู้ชายและผู้หญิงในแต่ละสาขาวิชา"
   ]
  },
  {
   "cell_type": "code",
   "execution_count": null,
   "metadata": {},
   "outputs": [],
   "source": [
    "new_data_all = new_data_all.sort_values(by='Total_Work_Demand', ascending=False)\n",
    "new_data_all = new_data_all.head(5)\n",
    "\n",
    "index = np.arange(len(new_data_all.index))\n",
    "bar_width = 0.35\n",
    "\n",
    "\n",
    "fig, ax = plt.subplots(figsize = (20,10))\n",
    "male = ax.bar(index, new_data_all[\"Male\"], bar_width, label=\"Male\")\n",
    "female = ax.bar(index + bar_width, new_data_all[\"Female\"], bar_width, label=\"Female\")\n",
    "\n",
    "for i, v in enumerate(male):\n",
    "    ax.text(i, v.get_height()+0.5, str(v.get_height()), fontsize = 16, ha='center')\n",
    "for i, v in enumerate(female):\n",
    "    ax.text(i  + bar_width, v.get_height()+0.5, str(v.get_height()), fontsize = 16, ha='center')\n",
    "\n",
    "plt.title(\"Work Force Demand Sort By Major and Gender\", fontsize=20)\n",
    "plt.xticks(index + bar_width/2, new_data_all.Major, fontsize=16, rotation=45)\n",
    "plt.xlabel(\"Major\", fontsize=16)\n",
    "plt.ylabel(\"Total_Worker\", fontsize=16)\n",
    "plt.legend(loc='best', fontsize=18, frameon=False)\n",
    "\n",
    "plt.yticks(fontsize=16)\n",
    "plt.show()\n"
   ]
  },
  {
   "attachments": {},
   "cell_type": "markdown",
   "metadata": {},
   "source": [
    "# Pie Chart\n",
    "เปอร์เซนต์แรงงานไทยของสาขาวิชาในปี 2565 "
   ]
  },
  {
   "cell_type": "code",
   "execution_count": null,
   "metadata": {},
   "outputs": [],
   "source": [
    "# year = 2565\n",
    "# new_data_2565 = new_data_2565.sort_values(by='Thai', ascending=False)\n",
    "# new_data_2565 = new_data_2565.head(7)\n",
    "# labels = new_data_2565['Major']\n",
    "# sizes = new_data_2565['Thai']\n",
    "# plt.figure(figsize=(20, 10))\n",
    "# plt.pie(sizes, labels=labels, autopct='%1.1f%%', startangle=90)\n",
    "# plt.title(f'Thai Labor Distribution by Branch of Study in {year}', fontsize = 18)\n",
    "# plt.show()\n"
   ]
  },
  {
   "cell_type": "code",
   "execution_count": null,
   "metadata": {},
   "outputs": [],
   "source": [
    "plt.figure(figsize=(20, 10))\n",
    "plt.barh(y=new_data_2565['Major'], width=new_data_2565['Thai'], height=0.5)\n",
    "plt.xlabel('Number of Thai Labor', fontsize = 14)\n",
    "plt.ylabel('Branch of Study', fontsize = 14)\n",
    "plt.title(f'Thai Labor Distribution by Branch of Study in {year}', fontsize = 18)\n",
    "plt.show()"
   ]
  }
 ],
 "metadata": {
  "kernelspec": {
   "display_name": "base",
   "language": "python",
   "name": "python3"
  },
  "language_info": {
   "codemirror_mode": {
    "name": "ipython",
    "version": 3
   },
   "file_extension": ".py",
   "mimetype": "text/x-python",
   "name": "python",
   "nbconvert_exporter": "python",
   "pygments_lexer": "ipython3",
   "version": "3.9.16"
  },
  "orig_nbformat": 4,
  "vscode": {
   "interpreter": {
    "hash": "2fffb9416fef0f14d8c3180827823918a8a81fff6ed4e50b546e97970237eb04"
   }
  }
 },
 "nbformat": 4,
 "nbformat_minor": 2
}
