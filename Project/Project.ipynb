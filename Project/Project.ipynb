{
 "cells": [
  {
   "cell_type": "code",
   "execution_count": null,
   "metadata": {},
   "outputs": [],
   "source": [
    "import pandas as pd"
   ]
  },
  {
   "cell_type": "code",
   "execution_count": null,
   "metadata": {},
   "outputs": [],
   "source": [
    "big_head = pd.read_csv(\"Big_head.csv\")\n",
    "small_head = pd.read_csv(\"small_head.csv\")\n",
    "data_2558 = pd.read_csv(\"data_2558.csv\")\n",
    "data_2559 = pd.read_csv(\"data_2559.csv\")\n",
    "data_2560 = pd.read_csv(\"data_2560.csv\")\n",
    "data_2561 = pd.read_csv(\"data_2561.csv\")\n",
    "data_2562 = pd.read_csv(\"data_2562.csv\")\n",
    "data_2563 = pd.read_csv(\"data_2563.csv\")"
   ]
  }
 ],
 "metadata": {
  "kernelspec": {
   "display_name": "base",
   "language": "python",
   "name": "python3"
  },
  "language_info": {
   "codemirror_mode": {
    "name": "ipython",
    "version": 3
   },
   "file_extension": ".py",
   "mimetype": "text/x-python",
   "name": "python",
   "nbconvert_exporter": "python",
   "pygments_lexer": "ipython3",
   "version": "3.9.16"
  },
  "orig_nbformat": 4,
  "vscode": {
   "interpreter": {
    "hash": "2fffb9416fef0f14d8c3180827823918a8a81fff6ed4e50b546e97970237eb04"
   }
  }
 },
 "nbformat": 4,
 "nbformat_minor": 2
}
