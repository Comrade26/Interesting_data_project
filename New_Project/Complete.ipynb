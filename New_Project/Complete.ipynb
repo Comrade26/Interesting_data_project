{
 "cells": [
  {
   "cell_type": "code",
   "execution_count": null,
   "metadata": {},
   "outputs": [],
   "source": [
    "import re\n",
    "import numpy as np\n",
    "import pandas as pd\n",
    "import seaborn as sns\n",
    "import matplotlib.pyplot as plt"
   ]
  },
  {
   "cell_type": "code",
   "execution_count": null,
   "metadata": {},
   "outputs": [],
   "source": [
    "ตรี_all = pd.read_csv(\"ตรี_All.csv\")\n",
    "data_2563 = pd.read_csv(\"2563.csv\")\n",
    "data_2564 = pd.read_csv(\"2564.csv\")\n",
    "data_2565 = pd.read_csv(\"2565.csv\")\n",
    "data_2566 = pd.read_csv(\"2566.csv\")"
   ]
  },
  {
   "cell_type": "code",
   "execution_count": null,
   "metadata": {},
   "outputs": [],
   "source": [
    "list_data = [data_2563, data_2564, data_2565, data_2566, ตรี_all]\n",
    "\n",
    "dict_for_change = {\"สาขาวิชา\": \"Major\",\t\"ชาย\": \"Male\", \"หญิง\": \"Female\", \"ไม่ระบุเพศ\" : \"Unknow_Gender\", \"แรงงานไทย\": \"Thai\", \"แรงงานต่างด้าว\": \"Non_Thai\", \"แรงงานที่ต้องการรวม\": \"Total_Work_Demand\"}\n",
    "\n",
    "letter_box = [\"-\", \"(\", \")\", \"[\", \"]\"]\n",
    "for c in list_data:\n",
    "    for n in range(len(dict_for_change)):\n",
    "        c.columns = c.columns.str.replace(list(dict_for_change.keys())[n],list(dict_for_change.values())[n]) \n",
    "    for i in range(len(c.Major)):\n",
    "        for letter in letter_box:\n",
    "            c.loc[i, \"Major\"] = c.loc[i, \"Major\"].replace(letter, \" \")\n",
    "\n"
   ]
  },
  {
   "cell_type": "code",
   "execution_count": null,
   "metadata": {},
   "outputs": [],
   "source": []
  }
 ],
 "metadata": {
  "kernelspec": {
   "display_name": "base",
   "language": "python",
   "name": "python3"
  },
  "language_info": {
   "name": "python",
   "version": "3.9.16 (main, Jan 11 2023, 16:16:36) [MSC v.1916 64 bit (AMD64)]"
  },
  "orig_nbformat": 4,
  "vscode": {
   "interpreter": {
    "hash": "2fffb9416fef0f14d8c3180827823918a8a81fff6ed4e50b546e97970237eb04"
   }
  }
 },
 "nbformat": 4,
 "nbformat_minor": 2
}
