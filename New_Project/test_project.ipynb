{
 "cells": [
  {
   "cell_type": "code",
   "execution_count": null,
   "metadata": {},
   "outputs": [],
   "source": [
    "import re\n",
    "import numpy as np\n",
    "import pandas as pd\n",
    "import seaborn as sns\n",
    "import matplotlib.pyplot as plt\n",
    "import matplotlib.font_manager as fm\n",
    "\n",
    "ตรี_all = pd.read_csv(\"ตรี_All.csv\")\n",
    "data_2563 = pd.read_csv(\"2563.csv\")\n",
    "data_2564 = pd.read_csv(\"2564.csv\")\n",
    "data_2565 = pd.read_csv(\"2565.csv\")\n",
    "data_2566 = pd.read_csv(\"2566.csv\")\n",
    "\n",
    "list_data = [data_2563, data_2564, data_2565, data_2566, ตรี_all]\n",
    "\n",
    "for c in list_data:\n",
    "    for i in range(len(c.สาขาวิชา)):\n",
    "        c.สาขาวิชา[i] = c.สาขาวิชา[i].replace(\"-\", \" \")\n",
    "        c.สาขาวิชา[i] = c.สาขาวิชา[i].replace(\"(\", \" \")\n",
    "        c.สาขาวิชา[i] = c.สาขาวิชา[i].replace(\")\", \" \")\n",
    "        c.สาขาวิชา[i] = c.สาขาวิชา[i].replace(\"[\", \" \")\n",
    "        c.สาขาวิชา[i] = c.สาขาวิชา[i].replace(\"]\", \" \")"
   ]
  }
 ],
 "metadata": {
  "kernelspec": {
   "display_name": "base",
   "language": "python",
   "name": "python3"
  },
  "language_info": {
   "name": "python",
   "version": "3.9.16 (main, Jan 11 2023, 16:16:36) [MSC v.1916 64 bit (AMD64)]"
  },
  "orig_nbformat": 4,
  "vscode": {
   "interpreter": {
    "hash": "2fffb9416fef0f14d8c3180827823918a8a81fff6ed4e50b546e97970237eb04"
   }
  }
 },
 "nbformat": 4,
 "nbformat_minor": 2
}
